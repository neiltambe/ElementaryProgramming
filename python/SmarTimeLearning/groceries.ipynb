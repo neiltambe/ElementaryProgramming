{
 "cells": [
  {
   "cell_type": "code",
   "execution_count": 31,
   "metadata": {},
   "outputs": [],
   "source": [
    "grocery_list = [\"bread\", \"eggs\", \"soda\", \"chips\", \"yogurt\", \"milk\", \"pizza\", \"chicken burger\"]\n",
    "item_price = {\"bread\": 7, \"eggs\": 10, \"soda\": 6, \"chips\": 5, \"yogurt\": 8, \"milk\": 10, \"pizza\": 13, \"chicken burger\": 10}\n",
    "## today_date = February 23 2024\n",
    "customer_name = input(\"Enter Customer Name : \")\n",
    "\n",
    "print(grocery_list[0])\n",
    "print(grocery_list[1])\n",
    "print(grocery_list[2])\n",
    "print(grocery_list[3])\n",
    "print(grocery_list[4])\n",
    "print(grocery_list[5])\n",
    "print(grocery_list[6])\n",
    "print(grocery_list[7])\n",
    "print(grocery_list[0], item_price[\"bread\"])\n",
    "print(grocery_list[1], item_price[\"eggs\"])\n",
    "print(grocery_list[2], item_price[\"soda\"])\n",
    "print(grocery_list[3], item_price[\"chips\"])\n",
    "print(grocery_list[4], item_price[\"yogurt\"])\n",
    "print(grocery_list[5], item_price[\"milk\"])\n",
    "print(grocery_list[6], item_price[\"pizza\"])\n",
    "print(grocery_list[7], item_price[\"chicken burger\"])\n",
    "total = 0\n",
    "total = total + item_price[grocery_list[0]]\n",
    "print(total)"
   ]
  },
  {
   "cell_type": "code",
   "execution_count": 5,
   "metadata": {},
   "outputs": [
    {
     "name": "stdout",
     "output_type": "stream",
     "text": [
      "12500 square cm\n"
     ]
    }
   ],
   "source": [
    "length = 250\n",
    "width = 50\n",
    "area= length * width\n",
    "print(str(area) + \" square cm\")"
   ]
  },
  {
   "cell_type": "code",
   "execution_count": null,
   "metadata": {},
   "outputs": [],
   "source": []
  }
 ],
 "metadata": {
  "kernelspec": {
   "display_name": "Python 3",
   "language": "python",
   "name": "python3"
  },
  "language_info": {
   "codemirror_mode": {
    "name": "ipython",
    "version": 3
   },
   "file_extension": ".py",
   "mimetype": "text/x-python",
   "name": "python",
   "nbconvert_exporter": "python",
   "pygments_lexer": "ipython3",
   "version": "3.12.2"
  }
 },
 "nbformat": 4,
 "nbformat_minor": 2
}

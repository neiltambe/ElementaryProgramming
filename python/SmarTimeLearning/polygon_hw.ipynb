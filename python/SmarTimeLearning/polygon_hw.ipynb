{
 "cells": [
  {
   "cell_type": "code",
   "execution_count": null,
   "metadata": {
    "vscode": {
     "languageId": "plaintext"
    }
   },
   "outputs": [],
   "source": [
    "from math import pi\n",
    "from ColabTurtle.Turtle import *\n",
    "initializeTurtle()\n",
    "\n",
    "#square\n",
    "s = 100\n",
    "right_angle = 90\n",
    "forward(s)\n",
    "left(right_angle)\n",
    "forward(s)\n",
    "left(right_angle)\n",
    "forward(s)\n",
    "left(right_angle)\n",
    "forward(s)\n",
    "#square\n",
    "\n",
    "penup()\n",
    "forward(s)\n",
    "pendown()\n",
    "\n",
    "#rectangle\n",
    "l = 200\n",
    "w = 100\n",
    "forward(l)\n",
    "left(right_angle)\n",
    "forward(w)\n",
    "left(right_angle)\n",
    "forward(l)\n",
    "left(right_angle)\n",
    "forward(w)\n",
    "#rectangle\n",
    "\n",
    "penup()\n",
    "forward(w/2)\n",
    "pendown()\n",
    "\n",
    "#triangle\n",
    "right(30)\n",
    "forward(s)\n",
    "left(120)\n",
    "forward(s)\n",
    "left(120)\n",
    "forward(s)\n",
    "#triangle\n",
    "\n",
    "penup()\n",
    "left(60)\n",
    "forward(l)\n",
    "pendown()\n",
    "\n",
    "#circle\n",
    "angle = 5\n",
    "num_steps = int(360/angle)\n",
    "for i in range(num_steps):\n",
    "   left(angle)\n",
    "   forward(5)"
   ]
  }
 ],
 "metadata": {
  "language_info": {
   "name": "python"
  }
 },
 "nbformat": 4,
 "nbformat_minor": 2
}

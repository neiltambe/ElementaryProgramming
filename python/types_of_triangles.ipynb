{
 "cells": [
  {
   "cell_type": "code",
   "execution_count": 5,
   "metadata": {},
   "outputs": [
    {
     "name": "stdout",
     "output_type": "stream",
     "text": [
      "0 : Equilateral\n",
      "1 : Isoceles\n",
      "2 : Scalene\n",
      "3 : Right\n",
      "4 : Obtuse\n",
      "5 : Acute\n"
     ]
    }
   ],
   "source": [
    "types_of_triangles = [\"Equilateral\", \"Isoceles\", \"Scalene\", \"Right\", \"Obtuse\", \"Acute\"] \n",
    "for i in range(len(types_of_triangles)):\n",
    "\n",
    "    print(i, \":\", types_of_triangles[i])\n",
    "    "
   ]
  }
 ],
 "metadata": {
  "kernelspec": {
   "display_name": "Python 3",
   "language": "python",
   "name": "python3"
  },
  "language_info": {
   "codemirror_mode": {
    "name": "ipython",
    "version": 3
   },
   "file_extension": ".py",
   "mimetype": "text/x-python",
   "name": "python",
   "nbconvert_exporter": "python",
   "pygments_lexer": "ipython3",
   "version": "3.13.1"
  }
 },
 "nbformat": 4,
 "nbformat_minor": 2
}

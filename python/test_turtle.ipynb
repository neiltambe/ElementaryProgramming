{
 "cells": [
  {
   "cell_type": "code",
   "execution_count": 1,
   "metadata": {},
   "outputs": [
    {
     "name": "stdout",
     "output_type": "stream",
     "text": [
      "Neil Tambe\n"
     ]
    }
   ],
   "source": [
    "print(\"Neil Tambe\")"
   ]
  },
  {
   "cell_type": "code",
   "execution_count": null,
   "metadata": {},
   "outputs": [
    {
     "ename": "",
     "evalue": "",
     "output_type": "error",
     "traceback": [
      "\u001b[1;31mThe Kernel crashed while executing code in the current cell or a previous cell. \n",
      "\u001b[1;31mPlease review the code in the cell(s) to identify a possible cause of the failure. \n",
      "\u001b[1;31mClick <a href='https://aka.ms/vscodeJupyterKernelCrash'>here</a> for more info. \n",
      "\u001b[1;31mView Jupyter <a href='command:jupyter.viewOutput'>log</a> for further details."
     ]
    }
   ],
   "source": [
    "#boy_turtle_drawing.py\n",
    "\n",
    "import turtle\n",
    "import time\n",
    "t = turtle.Turtle()\n",
    "\n",
    "radius = int(input(\"Enter radius of my Circle\"))\n",
    "length = int(input(\"Enter length of my Rectangle\"))\n",
    "width = int(input(\"Enter width of my Rectangle\"))\n",
    "\n",
    "#time.sleep(30) \n",
    "\n",
    "t.circle(radius)\n",
    "\n",
    "t.goto(30,3)\n",
    "\n",
    "t.backward(length)\n",
    "t.right(90)\n",
    "\n",
    "t.forward(width)\n",
    "t.left(90)\n",
    "\n",
    "t.forward(length)\n",
    "t.left(90)\n",
    " \n",
    "\n",
    "t.forward(width)\n",
    "t.right(90)\n",
    "\n",
    "t.right(90)\n",
    "t.forward(width/2)\n",
    "\n",
    "t.left(120)\n",
    "t.forward(60)\n",
    "\n",
    "t.backward(60)\n",
    "t.left(60)\n",
    "\n",
    "t.forward(width/2)\n",
    "t.left(90)\n",
    "\n",
    "t.forward(length)\n",
    "t.left(90)\n",
    "\n",
    "t.forward(width/2)\n",
    "t.right(120)\n",
    "\n",
    "t.forward(60)\n",
    "t.backward(60)\n",
    "\n",
    "t.left(120)\n",
    "t.forward(width/2)\n",
    "\n",
    "t.left(90)\n",
    "t.forward(4)\n",
    "\n",
    "t.right(90)\n",
    "t.forward(70)\n",
    "\n",
    "t.backward(70)\n",
    "t.left(90)\n",
    "\n",
    "t.forward(length-8)\n",
    "t.right(90)\n",
    "\n",
    "t.forward(70)\n",
    "t.backward(70)\n",
    "\n",
    "t.right(90)\n",
    "t.forward(4)\n",
    "\n",
    "t.left(90)\n",
    "\n",
    "\n",
    "\n",
    "\n",
    "\n",
    "\n"
   ]
  }
 ],
 "metadata": {
  "kernelspec": {
   "display_name": "Python 3",
   "language": "python",
   "name": "python3"
  },
  "language_info": {
   "codemirror_mode": {
    "name": "ipython",
    "version": 3
   },
   "file_extension": ".py",
   "mimetype": "text/x-python",
   "name": "python",
   "nbconvert_exporter": "python",
   "pygments_lexer": "ipython3",
   "version": "3.13.1"
  }
 },
 "nbformat": 4,
 "nbformat_minor": 2
}
